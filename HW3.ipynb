{
 "cells": [
  {
   "cell_type": "markdown",
   "metadata": {},
   "source": [
    "# HW3"
   ]
  },
  {
   "cell_type": "code",
   "execution_count": 30,
   "metadata": {},
   "outputs": [],
   "source": [
    "import numpy as np\n",
    "from tqdm import trange\n",
    "from scipy.stats import bernoulli,norm\n",
    "import matplotlib.pyplot as plt\n",
    "import math"
   ]
  },
  {
   "cell_type": "markdown",
   "metadata": {},
   "source": [
    "## Problem 1"
   ]
  },
  {
   "cell_type": "markdown",
   "metadata": {},
   "source": [
    "### Define experiment parameters"
   ]
  },
  {
   "cell_type": "code",
   "execution_count": 31,
   "metadata": {},
   "outputs": [],
   "source": [
    "p_left = 0.5\n",
    "trials = 10000\n",
    "total_nodes = 11"
   ]
  },
  {
   "cell_type": "markdown",
   "metadata": {},
   "source": [
    "### Trials"
   ]
  },
  {
   "cell_type": "code",
   "execution_count": 32,
   "metadata": {},
   "outputs": [
    {
     "name": "stderr",
     "output_type": "stream",
     "text": [
      "100%|██████████| 10000/10000 [00:22<00:00, 451.93it/s]\n"
     ]
    }
   ],
   "source": [
    "stop_idx_cnt_arr = np.zeros(total_nodes)\n",
    "for i in trange(trials):\n",
    "    cur_idx = 0\n",
    "    node_unvisited = total_nodes\n",
    "    node_visit_arr = np.zeros(total_nodes,dtype=bool)\n",
    "    while True:\n",
    "        if(not node_visit_arr[cur_idx]):\n",
    "            node_visit_arr[cur_idx] = True\n",
    "            node_unvisited -=1\n",
    "        # all visited\n",
    "        if(node_unvisited == 0):\n",
    "            break\n",
    "        is_left = bernoulli.rvs(p_left)\n",
    "        if(is_left):\n",
    "            cur_idx = (cur_idx -1 ) % total_nodes\n",
    "        else: \n",
    "            cur_idx = (cur_idx + 1) % total_nodes\n",
    "    stop_idx_cnt_arr[cur_idx] += 1\n",
    "        "
   ]
  },
  {
   "cell_type": "code",
   "execution_count": 33,
   "metadata": {},
   "outputs": [
    {
     "data": {
      "text/plain": [
       "<BarContainer object of 10 artists>"
      ]
     },
     "execution_count": 33,
     "metadata": {},
     "output_type": "execute_result"
    },
    {
     "data": {
      "image/png": "[encoded data removed]",
      "text/plain": [
       "<Figure size 576x396 with 1 Axes>"
      ]
     },
     "metadata": {},
     "output_type": "display_data"
    }
   ],
   "source": [
    "plt.style.use('seaborn')\n",
    "fig, ax = plt.subplots()\n",
    "ax.bar(x = np.arange(1,total_nodes),height=stop_idx_cnt_arr[1:])"
   ]
  },
  {
   "cell_type": "markdown",
   "metadata": {},
   "source": [
    "## Problem 3"
   ]
  },
  {
   "cell_type": "code",
   "execution_count": 9,
   "metadata": {},
   "outputs": [],
   "source": [
    "n = 100\n",
    "k = 50\n",
    "p = 0.5"
   ]
  },
  {
   "cell_type": "code",
   "execution_count": 10,
   "metadata": {},
   "outputs": [
    {
     "name": "stderr",
     "output_type": "stream",
     "text": [
      "100%|██████████| 10000/10000 [17:05<00:00,  9.76it/s]\n"
     ]
    }
   ],
   "source": [
    "trials = 10000\n",
    "up_or_down = np.array([0,0],dtype=int)\n",
    "\n",
    "\n",
    "for i in trange(trials):\n",
    "    k = 50\n",
    "    while True:\n",
    "        k +=  1 if bernoulli.rvs(p) else -1\n",
    "        if( k >= n):\n",
    "            up_or_down[0] +=1\n",
    "            break\n",
    "        elif (k <= 0):\n",
    "            up_or_down[1] +=1\n",
    "            break"
   ]
  },
  {
   "cell_type": "code",
   "execution_count": 11,
   "metadata": {},
   "outputs": [
    {
     "data": {
      "text/plain": [
       "<BarContainer object of 2 artists>"
      ]
     },
     "execution_count": 11,
     "metadata": {},
     "output_type": "execute_result"
    },
    {
     "data": {
      "image/png": "[encoded data removed]",
      "text/plain": [
       "<Figure size 576x396 with 1 Axes>"
      ]
     },
     "metadata": {},
     "output_type": "display_data"
    }
   ],
   "source": [
    "plt.style.use('seaborn')\n",
    "fig, ax = plt.subplots()\n",
    "ax.bar(x = ['up','down'],height=up_or_down)"
   ]
  },
  {
   "cell_type": "code",
   "execution_count": 12,
   "metadata": {},
   "outputs": [],
   "source": [
    "n = 100\n",
    "k = 50\n",
    "p = 0.6"
   ]
  },
  {
   "cell_type": "code",
   "execution_count": 13,
   "metadata": {},
   "outputs": [
    {
     "name": "stderr",
     "output_type": "stream",
     "text": [
      "100%|██████████| 10000/10000 [01:38<00:00, 101.83it/s]\n"
     ]
    }
   ],
   "source": [
    "trials = 10000\n",
    "up_or_down = np.array([0,0],dtype=int)\n",
    "\n",
    "\n",
    "for i in trange(trials):\n",
    "    k = 50\n",
    "    while True:\n",
    "        k +=  1 if bernoulli.rvs(p) else -1\n",
    "        if( k >= n):\n",
    "            up_or_down[0] +=1\n",
    "            break\n",
    "        elif (k <= 0):\n",
    "            up_or_down[1] +=1\n",
    "            break"
   ]
  },
  {
   "cell_type": "code",
   "execution_count": 14,
   "metadata": {},
   "outputs": [
    {
     "data": {
      "text/plain": [
       "<BarContainer object of 2 artists>"
      ]
     },
     "execution_count": 14,
     "metadata": {},
     "output_type": "execute_result"
    },
    {
     "data": {
      "image/png": "[encoded data removed]",
      "text/plain": [
       "<Figure size 576x396 with 1 Axes>"
      ]
     },
     "metadata": {},
     "output_type": "display_data"
    }
   ],
   "source": [
    "plt.style.use('seaborn')\n",
    "fig, ax = plt.subplots()\n",
    "ax.bar(x = ['up','down'],height=up_or_down)"
   ]
  },
  {
   "cell_type": "markdown",
   "metadata": {},
   "source": [
    "## Problem 4"
   ]
  },
  {
   "cell_type": "code",
   "execution_count": 17,
   "metadata": {},
   "outputs": [],
   "source": [
    "A = 1\n",
    "B = -2\n",
    "init = 0\n",
    "delta_t = 0.1"
   ]
  },
  {
   "cell_type": "code",
   "execution_count": 18,
   "metadata": {},
   "outputs": [
    {
     "name": "stderr",
     "output_type": "stream",
     "text": [
      "100%|██████████| 10000/10000 [00:08<00:00, 1124.90it/s]\n"
     ]
    }
   ],
   "source": [
    "up_or_down = np.array([0,0],dtype=int)\n",
    "for i in trange(trials):\n",
    "    init = 0\n",
    "    while True:\n",
    "        init += norm.rvs(loc=0,scale=math.sqrt(delta_t))\n",
    "        if( init >= A):\n",
    "            up_or_down[0] +=1\n",
    "            break\n",
    "        elif (init <= B):\n",
    "            up_or_down[1] +=1\n",
    "            break"
   ]
  },
  {
   "cell_type": "code",
   "execution_count": 20,
   "metadata": {},
   "outputs": [
    {
     "data": {
      "text/plain": [
       "array([6503, 3497])"
      ]
     },
     "execution_count": 20,
     "metadata": {},
     "output_type": "execute_result"
    }
   ],
   "source": [
    "up_or_down"
   ]
  },
  {
   "cell_type": "code",
   "execution_count": 19,
   "metadata": {},
   "outputs": [
    {
     "data": {
      "text/plain": [
       "<BarContainer object of 2 artists>"
      ]
     },
     "execution_count": 19,
     "metadata": {},
     "output_type": "execute_result"
    },
    {
     "data": {
      "image/png": "[encoded data removed]",
      "text/plain": [
       "<Figure size 576x396 with 1 Axes>"
      ]
     },
     "metadata": {},
     "output_type": "display_data"
    }
   ],
   "source": [
    "plt.style.use('seaborn')\n",
    "fig, ax = plt.subplots()\n",
    "ax.bar(x = ['up','down'],height=up_or_down)"
   ]
  },
  {
   "cell_type": "code",
   "execution_count": 23,
   "metadata": {},
   "outputs": [],
   "source": [
    "A = 1\n",
    "B = -2\n",
    "init = 0\n",
    "delta_t = 0.01"
   ]
  },
  {
   "cell_type": "code",
   "execution_count": 24,
   "metadata": {},
   "outputs": [
    {
     "name": "stderr",
     "output_type": "stream",
     "text": [
      "100%|██████████| 10000/10000 [01:11<00:00, 139.51it/s]\n"
     ]
    }
   ],
   "source": [
    "up_or_down = np.array([0,0],dtype=int)\n",
    "for i in trange(trials):\n",
    "    init = 0\n",
    "    while True:\n",
    "        init += norm.rvs(loc=0,scale=math.sqrt(delta_t))\n",
    "        if( init >= A):\n",
    "            up_or_down[0] +=1\n",
    "            break\n",
    "        elif (init <= B):\n",
    "            up_or_down[1] +=1\n",
    "            break"
   ]
  },
  {
   "cell_type": "code",
   "execution_count": 25,
   "metadata": {},
   "outputs": [
    {
     "data": {
      "text/plain": [
       "<BarContainer object of 2 artists>"
      ]
     },
     "execution_count": 25,
     "metadata": {},
     "output_type": "execute_result"
    },
    {
     "data": {
      "image/png": "[encoded data removed]",
      "text/plain": [
       "<Figure size 576x396 with 1 Axes>"
      ]
     },
     "metadata": {},
     "output_type": "display_data"
    }
   ],
   "source": [
    "plt.style.use('seaborn')\n",
    "fig, ax = plt.subplots()\n",
    "ax.bar(x = ['up','down'],height=up_or_down)"
   ]
  },
  {
   "cell_type": "code",
   "execution_count": 26,
   "metadata": {},
   "outputs": [],
   "source": [
    "A = 1\n",
    "B = -2\n",
    "init = 0\n",
    "delta_t = 0.001"
   ]
  },
  {
   "cell_type": "code",
   "execution_count": 27,
   "metadata": {},
   "outputs": [
    {
     "name": "stderr",
     "output_type": "stream",
     "text": [
      "100%|██████████| 10000/10000 [11:09<00:00, 14.94it/s]\n"
     ]
    }
   ],
   "source": [
    "up_or_down = np.array([0,0],dtype=int)\n",
    "for i in trange(trials):\n",
    "    init = 0\n",
    "    while True:\n",
    "        init += norm.rvs(loc=0,scale=math.sqrt(delta_t))\n",
    "        if( init >= A):\n",
    "            up_or_down[0] +=1\n",
    "            break\n",
    "        elif (init <= B):\n",
    "            up_or_down[1] +=1\n",
    "            break"
   ]
  },
  {
   "cell_type": "code",
   "execution_count": 28,
   "metadata": {},
   "outputs": [
    {
     "data": {
      "text/plain": [
       "<BarContainer object of 2 artists>"
      ]
     },
     "execution_count": 28,
     "metadata": {},
     "output_type": "execute_result"
    },
    {
     "data": {
      "image/png": "[encoded data removed]",
      "text/plain": [
       "<Figure size 576x396 with 1 Axes>"
      ]
     },
     "metadata": {},
     "output_type": "display_data"
    }
   ],
   "source": [
    "plt.style.use('seaborn')\n",
    "fig, ax = plt.subplots()\n",
    "ax.bar(x = ['up','down'],height=up_or_down)"
   ]
  },
  {
   "cell_type": "code",
   "execution_count": 29,
   "metadata": {},
   "outputs": [
    {
     "data": {
      "text/plain": [
       "array([6755, 3245])"
      ]
     },
     "execution_count": 29,
     "metadata": {},
     "output_type": "execute_result"
    }
   ],
   "source": [
    "up_or_down"
   ]
  },
  {
   "cell_type": "code",
   "execution_count": null,
   "metadata": {},
   "outputs": [],
   "source": []
  }
 ],
 "metadata": {
  "kernelspec": {
   "display_name": "Python 3.10.4 ('quant-p')",
   "language": "python",
   "name": "python3"
  },
  "language_info": {
   "codemirror_mode": {
    "name": "ipython",
    "version": 3
   },
   "file_extension": ".py",
   "mimetype": "text/x-python",
   "name": "python",
   "nbconvert_exporter": "python",
   "pygments_lexer": "ipython3",
   "version": "3.10.4"
  },
  "orig_nbformat": 4,
  "vscode": {
   "interpreter": {
    "hash": "5d75ec096d988332fe2f5211ce92059e01f867ee2e3027bc42a36b29937f98e0"
   }
  }
 },
 "nbformat": 4,
 "nbformat_minor": 2
}
